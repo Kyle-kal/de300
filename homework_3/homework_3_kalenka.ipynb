{
  "nbformat": 4,
  "nbformat_minor": 0,
  "metadata": {
    "colab": {
      "provenance": []
    },
    "kernelspec": {
      "name": "python3",
      "display_name": "Python 3"
    },
    "language_info": {
      "name": "python"
    }
  },
  "cells": [
    {
      "cell_type": "markdown",
      "source": [
        "# 1. tf-idf definition"
      ],
      "metadata": {
        "id": "SRHRANM5ux-U"
      }
    },
    {
      "cell_type": "code",
      "execution_count": 1,
      "metadata": {
        "colab": {
          "base_uri": "https://localhost:8080/"
        },
        "id": "Ggfbopt2ulDC",
        "outputId": "cd4d8689-6120-432a-ea4a-b8153cc0a19c"
      },
      "outputs": [
        {
          "output_type": "stream",
          "name": "stdout",
          "text": [
            "  % Total    % Received % Xferd  Average Speed   Time    Time     Time  Current\n",
            "                                 Dload  Upload   Total   Spent    Left  Speed\n",
            "100 33.2M  100 33.2M    0     0  29.3M      0  0:00:01  0:00:01 --:--:-- 29.3M\n"
          ]
        }
      ],
      "source": [
        "!curl https://raw.githubusercontent.com/mosesyhc/de300-2025sp-class/refs/heads/main/agnews_clean.csv -O"
      ]
    },
    {
      "cell_type": "code",
      "source": [
        "from pyspark.sql import SparkSession\n",
        "\n",
        "spark = (SparkSession.builder\n",
        "         .master(\"local[*]\")\n",
        "         .appName(\"AG news\")\n",
        "         .getOrCreate()\n",
        "        )\n",
        "\n",
        "agnews = spark.read.csv(\"agnews_clean.csv\", inferSchema=True, header=True)\n",
        "\n",
        "# turning the second column from a string to an array\n",
        "import pyspark.sql.functions as F\n",
        "from pyspark.sql.types import ArrayType, StringType\n",
        "agnews = agnews.withColumn('filtered', F.from_json('filtered', ArrayType(StringType())))"
      ],
      "metadata": {
        "id": "FLsY4t3OurhD"
      },
      "execution_count": 4,
      "outputs": []
    },
    {
      "cell_type": "code",
      "source": [
        "# each row contains the document id and a list of filtered words\n",
        "agnews.show(5, truncate=30)"
      ],
      "metadata": {
        "colab": {
          "base_uri": "https://localhost:8080/"
        },
        "id": "2IGfbSvVut6b",
        "outputId": "02469cae-ccdd-41b7-f775-7d7b136e4862"
      },
      "execution_count": 5,
      "outputs": [
        {
          "output_type": "stream",
          "name": "stdout",
          "text": [
            "+---+------------------------------+\n",
            "|_c0|                      filtered|\n",
            "+---+------------------------------+\n",
            "|  0|[wall, st, bears, claw, bac...|\n",
            "|  1|[carlyle, looks, toward, co...|\n",
            "|  2|[oil, economy, cloud, stock...|\n",
            "|  3|[iraq, halts, oil, exports,...|\n",
            "|  4|[oil, prices, soar, time, r...|\n",
            "+---+------------------------------+\n",
            "only showing top 5 rows\n",
            "\n"
          ]
        }
      ]
    },
    {
      "cell_type": "code",
      "source": [
        "from pyspark.sql.functions import explode, size, count, log, col, countDistinct, struct, collect_list"
      ],
      "metadata": {
        "id": "kO7mHA_90y30"
      },
      "execution_count": 19,
      "outputs": []
    },
    {
      "cell_type": "code",
      "source": [
        "# Explode words to get (id, word) per document\n",
        "tokens = agnews.select('_c0', explode('filtered').alias('word'))\n",
        "\n",
        "# Total number of documents\n",
        "N = agnews.select('_c0').distinct().count()\n",
        "\n",
        "# Document length\n",
        "doc_length = agnews.select('_c0', size('filtered').alias('doc_len'))\n",
        "\n",
        "# tf = count(word in doc) / total words in doc\n",
        "tf = tokens.groupBy('_c0', 'word').agg(count('*').alias('term_count')) \\\n",
        "          .join(doc_length, on='_c0') \\\n",
        "          .withColumn('tf', col('term_count') / col('doc_len'))\n",
        "\n",
        "# Number of docs with each word\n",
        "df = tokens.dropDuplicates(['_c0', 'word']).groupBy('word').agg(count('*').alias('doc_freq'))\n",
        "\n",
        "# Inverse Document Frequency (IDF)\n",
        "idf = df.withColumn('idf', log(N / col('doc_freq')))\n",
        "\n",
        "# TF-IDF\n",
        "tfidf = tf.join(idf, on='word').withColumn('tfidf', col('tf') * col('idf'))\n",
        "\n",
        "# TF -IDF by doc\n",
        "tfidf = tfidf.groupBy('_c0').agg(\n",
        "    collect_list(struct('word', 'tfidf')).alias('tfidf_values')\n",
        ")\n",
        "\n",
        "tfidf.orderBy('_c0').show(5, truncate=False)\n"
      ],
      "metadata": {
        "colab": {
          "base_uri": "https://localhost:8080/"
        },
        "id": "2SYzbDbWweYp",
        "outputId": "11318008-a89c-471e-83ec-2cfdde2faf3e"
      },
      "execution_count": 20,
      "outputs": [
        {
          "output_type": "stream",
          "name": "stdout",
          "text": [
            "+---+-----------------------------------------------------------------------------------------------------------------------------------------------------------------------------------------------------------------------------------------------------------------------------------------------------------------------------------------------------------------------------------------------------------------------------------------------------------------------------------------------------------------------------------------------------------------------------------------------------------------------------------------------------------------------------------------------------------------------------------------------------------------------------------------------------------------+\n",
            "|_c0|tfidf_values                                                                                                                                                                                                                                                                                                                                                                                                                                                                                                                                                                                                                                                                                                                                                                                                     |\n",
            "+---+-----------------------------------------------------------------------------------------------------------------------------------------------------------------------------------------------------------------------------------------------------------------------------------------------------------------------------------------------------------------------------------------------------------------------------------------------------------------------------------------------------------------------------------------------------------------------------------------------------------------------------------------------------------------------------------------------------------------------------------------------------------------------------------------------------------------+\n",
            "|0  |[{cynics, 0.563734318747707}, {green, 0.2877107940095433}, {claw, 0.499114829314058}, {back, 0.1892216338539946}, {dwindling, 0.4572386180709258}, {band, 0.3643421454792778}, {reuters, 0.24754017186645658}, {bears, 0.3372044607529448}, {wall, 0.5115985326511431}, {ultra, 0.4125512394225831}, {st, 0.2584728642725166}, {sellers, 0.4468379768438066}, {black, 0.2953171727366614}, {short, 0.2773120373951269}, {seeing, 0.37743394553516213}, {street, 0.24678348986493034}]                                                                                                                                                                                                                                                                                                                            |\n",
            "|1  |[{investment, 0.1890771769001148}, {commercial, 0.2057832028092643}, {reputation, 0.2578098186776328}, {group, 0.12468100563149095}, {plays, 0.22418048797172685}, {reuters, 0.1650267812443044}, {firm, 0.15969712503706046}, {private, 0.1929050573011279}, {occasionally, 0.33274321954270536}, {market, 0.13394932212703356}, {part, 0.16022031730914288}, {bets, 0.27861293130724324}, {placed, 0.2284965552404658}, {looks, 0.1973537176743789}, {quietly, 0.25188254045524316}, {making, 0.1698717076460444}, {industry, 0.15043731768548949}, {aerospace, 0.2581171817448437}, {toward, 0.1898997183872362}, {carlyle, 0.7168306746824437}, {timed, 0.324478643568105}, {defense, 0.1751279339938823}, {well, 0.17053284421704767}, {another, 0.14507889141437585}, {controversial, 0.20949395177306526}]|\n",
            "|2  |[{doldrums, 0.3770252270329423}, {economy, 0.3721400726458204}, {summer, 0.22694739048609625}, {plus, 0.24449073714833106}, {cloud, 0.295159450642955}, {week, 0.13121900794126834}, {market, 0.15069298739291276}, {earnings, 0.1792714404894228}, {oil, 0.13908157105107033}, {expected, 0.16094627131903613}, {soaring, 0.2596334462817101}, {stocks, 0.14976769101715193}, {stock, 0.17879168082328206}, {prices, 0.14472559202114177}, {reuters, 0.18565512889984243}, {next, 0.14062721303262238}, {depth, 0.31343954772064864}, {worries, 0.23009353850726894}, {hang, 0.30475018305843793}, {outlook, 0.4265073217271922}, {crude, 0.197241148492091}]                                                                                                                                                   |\n",
            "|3  |[{exports, 0.2146590164054526}, {infrastructure, 0.22959926718225876}, {reuters, 0.15913296762843637}, {militia, 0.2252006141545402}, {official, 0.15149485319300557}, {halts, 0.27365396741681164}, {said, 0.06593367258642661}, {southern, 0.336553609483104}, {rebel, 0.18209445014364567}, {oil, 0.35763832555989516}, {showed, 0.1743365558077232}, {pipeline, 0.4720829409342409}, {iraq, 0.23809526243476142}, {authorities, 0.18159366801541998}, {export, 0.23862435123782139}, {main, 0.36492623402353547}, {flows, 0.2774168429760197}, {saturday, 0.12197305137253434}, {intelligence, 0.20782569445751425}, {halted, 0.2557691357056513}, {strike, 0.17411586950893898}]                                                                                                                            |\n",
            "|4  |[{posing, 0.2589223867776184}, {menace, 0.5747440955975784}, {afp, 0.2559170042376607}, {economy, 0.14885602905832815}, {presidential, 0.1480257381794347}, {record, 0.1232987151692413}, {tearaway, 0.3918885216630942}, {three, 0.10314988960754677}, {economic, 0.1478268645368157}, {world, 0.09332201126546583}, {oil, 0.22253051368171256}, {us, 0.1669859687392097}, {present, 0.22209684830286883}, {prices, 0.23156094723382684}, {records, 0.19759033440942064}, {new, 0.12713976262548363}, {straining, 0.2904044404056468}, {soar, 0.2306791247647116}, {elections, 0.16009904796740967}, {months, 0.14002501854271598}, {time, 0.10623532598945135}, {barely, 0.21935019724396657}, {toppling, 0.27964532733021175}, {wallets, 0.2665151844733088}]                                                 |\n",
            "+---+-----------------------------------------------------------------------------------------------------------------------------------------------------------------------------------------------------------------------------------------------------------------------------------------------------------------------------------------------------------------------------------------------------------------------------------------------------------------------------------------------------------------------------------------------------------------------------------------------------------------------------------------------------------------------------------------------------------------------------------------------------------------------------------------------------------------+\n",
            "only showing top 5 rows\n",
            "\n"
          ]
        }
      ]
    },
    {
      "cell_type": "markdown",
      "source": [
        "# 2. SVM objective function"
      ],
      "metadata": {
        "id": "MGjJJyvluuae"
      }
    },
    {
      "cell_type": "code",
      "source": [
        "!curl https://raw.githubusercontent.com/mosesyhc/de300-2025sp-class/refs/heads/main/w.csv -O\n",
        "!curl https://raw.githubusercontent.com/mosesyhc/de300-2025sp-class/refs/heads/main/bias.csv -O\n",
        "!curl https://raw.githubusercontent.com/mosesyhc/de300-2025sp-class/refs/heads/main/data_for_svm.csv -O"
      ],
      "metadata": {
        "colab": {
          "base_uri": "https://localhost:8080/"
        },
        "id": "1Lq6zhqIu7xY",
        "outputId": "a58270b2-7434-4631-9879-b50ef385033e"
      },
      "execution_count": 2,
      "outputs": [
        {
          "output_type": "stream",
          "name": "stdout",
          "text": [
            "  % Total    % Received % Xferd  Average Speed   Time    Time     Time  Current\n",
            "                                 Dload  Upload   Total   Spent    Left  Speed\n",
            "100  1391  100  1391    0     0   6935      0 --:--:-- --:--:-- --:--:--  6955\n",
            "  % Total    % Received % Xferd  Average Speed   Time    Time     Time  Current\n",
            "                                 Dload  Upload   Total   Spent    Left  Speed\n",
            "100    22  100    22    0     0    119      0 --:--:-- --:--:-- --:--:--   119\n",
            "  % Total    % Received % Xferd  Average Speed   Time    Time     Time  Current\n",
            "                                 Dload  Upload   Total   Spent    Left  Speed\n",
            "100 61.9M  100 61.9M    0     0  55.8M      0  0:00:01  0:00:01 --:--:-- 55.8M\n"
          ]
        }
      ]
    },
    {
      "cell_type": "code",
      "source": [
        "# This is an example to read the files. But you should consider using pyspark directly.\n",
        "# *Make sure you are not assuming a header*!!\n",
        "\n",
        "import numpy as np\n",
        "from pyspark.sql.functions import udf, struct, mean\n",
        "from pyspark.sql.types import IntegerType, DoubleType\n",
        "\n",
        "import pandas as pd\n",
        "data_svm = pd.read_csv('data_for_svm.csv', header=None)\n",
        "w = pd.read_csv('w.csv', header=None)\n",
        "bias = pd.read_csv('bias.csv', header=None)\n"
      ],
      "metadata": {
        "id": "R-OwK7C1u-ZE"
      },
      "execution_count": 21,
      "outputs": []
    },
    {
      "cell_type": "code",
      "source": [
        "spark = SparkSession.builder.appName(\"SVM_Loss\").getOrCreate()\n",
        "df = spark.read.csv(\"data_for_svm.csv\", header=False, inferSchema=True)\n",
        "feature_cols = [f\"x{i}\" for i in range(64)]\n",
        "all_cols = feature_cols + [\"y\"]\n",
        "for i, name in enumerate(all_cols):\n",
        "    df = df.withColumnRenamed(f\"_c{i}\", name)"
      ],
      "metadata": {
        "id": "nJEKliTN27Gu"
      },
      "execution_count": 27,
      "outputs": []
    },
    {
      "cell_type": "code",
      "source": [
        "df.show(5)"
      ],
      "metadata": {
        "colab": {
          "base_uri": "https://localhost:8080/"
        },
        "id": "_sN7Muwk3Bpo",
        "outputId": "bf0c987c-96d6-4023-a16f-9aadc02454f4"
      },
      "execution_count": 28,
      "outputs": [
        {
          "output_type": "stream",
          "name": "stdout",
          "text": [
            "+---+---+---+---+---+---+---+---+---+---+---+---+---+---+---+---+---+---+---+---+---+---+---+---+---+---+---+---+---+---+---+---+---+---+---+---+---+---+---+---+---+---+---+---+---+---+---+---+---+---+---+---+---+---+---+---+---+---+---+---+---+---+---+---+---+\n",
            "| x0| x1| x2| x3| x4| x5| x6| x7| x8| x9|x10|x11|x12|x13|x14|x15|x16|x17|x18|x19|x20|x21|x22|x23|x24|x25|x26|x27|x28|x29|x30|x31|x32|x33|x34|x35|x36|x37|x38|x39|x40|x41|x42|x43|x44|x45|x46|x47|x48|x49|x50|x51|x52|x53|x54|x55|x56|x57|x58|x59|x60|x61|x62|x63|  y|\n",
            "+---+---+---+---+---+---+---+---+---+---+---+---+---+---+---+---+---+---+---+---+---+---+---+---+---+---+---+---+---+---+---+---+---+---+---+---+---+---+---+---+---+---+---+---+---+---+---+---+---+---+---+---+---+---+---+---+---+---+---+---+---+---+---+---+---+\n",
            "| -1| -1|  1|  1| -1|  1|  1|  1|  1| -1|  1|  1| -1| -1| -1|  1| -1|  1| -1|  1| -1|  1|  1| -1|  1|  1|  1| -1|  1| -1| -1| -1|  1|  1|  1| -1|  1| -1| -1| -1| -1|  1| -1|  1| -1| -1| -1| -1| -1| -1| -1| -1| -1| -1| -1| -1| -1| -1| -1| -1| -1| -1| -1|  1| -1|\n",
            "|  1|  1| -1|  1| -1| -1|  1|  1| -1|  1|  1| -1|  1| -1|  1|  1|  1|  1| -1|  1| -1| -1|  1| -1|  1| -1| -1|  1|  1|  1|  1| -1| -1|  1|  1| -1| -1| -1| -1|  1|  1|  1|  1|  1| -1| -1| -1| -1| -1| -1| -1| -1| -1| -1| -1| -1| -1| -1| -1| -1| -1|  1|  1| -1|  1|\n",
            "|  1|  1|  1| -1|  1|  1| -1|  1| -1|  1| -1| -1|  1| -1| -1|  1| -1| -1|  1| -1| -1| -1|  1| -1|  1|  1| -1| -1|  1|  1| -1| -1|  1|  1| -1|  1| -1| -1| -1| -1| -1| -1| -1| -1| -1|  1| -1| -1| -1| -1| -1| -1| -1| -1| -1| -1| -1| -1| -1| -1| -1|  1|  1|  1|  1|\n",
            "|  1| -1|  1| -1| -1| -1| -1| -1| -1|  1| -1|  1|  1|  1| -1|  1|  1|  1| -1|  1|  1|  1| -1|  1|  1| -1|  1| -1|  1| -1|  1|  1| -1| -1| -1| -1| -1| -1|  1| -1| -1| -1| -1|  1| -1| -1|  1|  1|  1|  1|  1|  1|  1|  1|  1|  1|  1|  1|  1|  1|  1|  1|  1|  1|  1|\n",
            "|  1| -1|  1| -1|  1| -1| -1|  1|  1|  1|  1|  1| -1| -1| -1|  1| -1|  1|  1|  1| -1|  1| -1|  1|  1| -1|  1|  1| -1| -1| -1|  1| -1|  1| -1| -1|  1| -1|  1|  1|  1| -1|  1| -1|  1| -1|  1|  1|  1|  1|  1|  1|  1|  1|  1|  1|  1|  1|  1|  1|  1|  1|  1|  1| -1|\n",
            "+---+---+---+---+---+---+---+---+---+---+---+---+---+---+---+---+---+---+---+---+---+---+---+---+---+---+---+---+---+---+---+---+---+---+---+---+---+---+---+---+---+---+---+---+---+---+---+---+---+---+---+---+---+---+---+---+---+---+---+---+---+---+---+---+---+\n",
            "only showing top 5 rows\n",
            "\n"
          ]
        }
      ]
    },
    {
      "cell_type": "code",
      "source": [
        "w.head(5)"
      ],
      "metadata": {
        "colab": {
          "base_uri": "https://localhost:8080/",
          "height": 130
        },
        "id": "URbtZzQP5eF7",
        "outputId": "0ec81506-fa01-48a1-b49e-4819207f931c"
      },
      "execution_count": 32,
      "outputs": [
        {
          "output_type": "execute_result",
          "data": {
            "text/plain": [
              "         0         1         2       3         4        5         6   \\\n",
              "0 -0.007841 -0.004139 -0.005414  0.0033  0.002638  0.00939 -0.011182   \n",
              "\n",
              "         7         8         9   ...        54        55        56       57  \\\n",
              "0 -0.004379 -0.008683 -0.007685  ... -0.002512  0.011746 -0.006911  0.00074   \n",
              "\n",
              "         58        59        60        61        62        63  \n",
              "0  0.011397  0.005465  0.005641 -0.002381  0.004438 -0.004438  \n",
              "\n",
              "[1 rows x 64 columns]"
            ],
            "text/html": [
              "\n",
              "  <div id=\"df-19abb512-8b63-42fd-b343-519def90d581\" class=\"colab-df-container\">\n",
              "    <div>\n",
              "<style scoped>\n",
              "    .dataframe tbody tr th:only-of-type {\n",
              "        vertical-align: middle;\n",
              "    }\n",
              "\n",
              "    .dataframe tbody tr th {\n",
              "        vertical-align: top;\n",
              "    }\n",
              "\n",
              "    .dataframe thead th {\n",
              "        text-align: right;\n",
              "    }\n",
              "</style>\n",
              "<table border=\"1\" class=\"dataframe\">\n",
              "  <thead>\n",
              "    <tr style=\"text-align: right;\">\n",
              "      <th></th>\n",
              "      <th>0</th>\n",
              "      <th>1</th>\n",
              "      <th>2</th>\n",
              "      <th>3</th>\n",
              "      <th>4</th>\n",
              "      <th>5</th>\n",
              "      <th>6</th>\n",
              "      <th>7</th>\n",
              "      <th>8</th>\n",
              "      <th>9</th>\n",
              "      <th>...</th>\n",
              "      <th>54</th>\n",
              "      <th>55</th>\n",
              "      <th>56</th>\n",
              "      <th>57</th>\n",
              "      <th>58</th>\n",
              "      <th>59</th>\n",
              "      <th>60</th>\n",
              "      <th>61</th>\n",
              "      <th>62</th>\n",
              "      <th>63</th>\n",
              "    </tr>\n",
              "  </thead>\n",
              "  <tbody>\n",
              "    <tr>\n",
              "      <th>0</th>\n",
              "      <td>-0.007841</td>\n",
              "      <td>-0.004139</td>\n",
              "      <td>-0.005414</td>\n",
              "      <td>0.0033</td>\n",
              "      <td>0.002638</td>\n",
              "      <td>0.00939</td>\n",
              "      <td>-0.011182</td>\n",
              "      <td>-0.004379</td>\n",
              "      <td>-0.008683</td>\n",
              "      <td>-0.007685</td>\n",
              "      <td>...</td>\n",
              "      <td>-0.002512</td>\n",
              "      <td>0.011746</td>\n",
              "      <td>-0.006911</td>\n",
              "      <td>0.00074</td>\n",
              "      <td>0.011397</td>\n",
              "      <td>0.005465</td>\n",
              "      <td>0.005641</td>\n",
              "      <td>-0.002381</td>\n",
              "      <td>0.004438</td>\n",
              "      <td>-0.004438</td>\n",
              "    </tr>\n",
              "  </tbody>\n",
              "</table>\n",
              "<p>1 rows × 64 columns</p>\n",
              "</div>\n",
              "    <div class=\"colab-df-buttons\">\n",
              "\n",
              "  <div class=\"colab-df-container\">\n",
              "    <button class=\"colab-df-convert\" onclick=\"convertToInteractive('df-19abb512-8b63-42fd-b343-519def90d581')\"\n",
              "            title=\"Convert this dataframe to an interactive table.\"\n",
              "            style=\"display:none;\">\n",
              "\n",
              "  <svg xmlns=\"http://www.w3.org/2000/svg\" height=\"24px\" viewBox=\"0 -960 960 960\">\n",
              "    <path d=\"M120-120v-720h720v720H120Zm60-500h600v-160H180v160Zm220 220h160v-160H400v160Zm0 220h160v-160H400v160ZM180-400h160v-160H180v160Zm440 0h160v-160H620v160ZM180-180h160v-160H180v160Zm440 0h160v-160H620v160Z\"/>\n",
              "  </svg>\n",
              "    </button>\n",
              "\n",
              "  <style>\n",
              "    .colab-df-container {\n",
              "      display:flex;\n",
              "      gap: 12px;\n",
              "    }\n",
              "\n",
              "    .colab-df-convert {\n",
              "      background-color: #E8F0FE;\n",
              "      border: none;\n",
              "      border-radius: 50%;\n",
              "      cursor: pointer;\n",
              "      display: none;\n",
              "      fill: #1967D2;\n",
              "      height: 32px;\n",
              "      padding: 0 0 0 0;\n",
              "      width: 32px;\n",
              "    }\n",
              "\n",
              "    .colab-df-convert:hover {\n",
              "      background-color: #E2EBFA;\n",
              "      box-shadow: 0px 1px 2px rgba(60, 64, 67, 0.3), 0px 1px 3px 1px rgba(60, 64, 67, 0.15);\n",
              "      fill: #174EA6;\n",
              "    }\n",
              "\n",
              "    .colab-df-buttons div {\n",
              "      margin-bottom: 4px;\n",
              "    }\n",
              "\n",
              "    [theme=dark] .colab-df-convert {\n",
              "      background-color: #3B4455;\n",
              "      fill: #D2E3FC;\n",
              "    }\n",
              "\n",
              "    [theme=dark] .colab-df-convert:hover {\n",
              "      background-color: #434B5C;\n",
              "      box-shadow: 0px 1px 3px 1px rgba(0, 0, 0, 0.15);\n",
              "      filter: drop-shadow(0px 1px 2px rgba(0, 0, 0, 0.3));\n",
              "      fill: #FFFFFF;\n",
              "    }\n",
              "  </style>\n",
              "\n",
              "    <script>\n",
              "      const buttonEl =\n",
              "        document.querySelector('#df-19abb512-8b63-42fd-b343-519def90d581 button.colab-df-convert');\n",
              "      buttonEl.style.display =\n",
              "        google.colab.kernel.accessAllowed ? 'block' : 'none';\n",
              "\n",
              "      async function convertToInteractive(key) {\n",
              "        const element = document.querySelector('#df-19abb512-8b63-42fd-b343-519def90d581');\n",
              "        const dataTable =\n",
              "          await google.colab.kernel.invokeFunction('convertToInteractive',\n",
              "                                                    [key], {});\n",
              "        if (!dataTable) return;\n",
              "\n",
              "        const docLinkHtml = 'Like what you see? Visit the ' +\n",
              "          '<a target=\"_blank\" href=https://colab.research.google.com/notebooks/data_table.ipynb>data table notebook</a>'\n",
              "          + ' to learn more about interactive tables.';\n",
              "        element.innerHTML = '';\n",
              "        dataTable['output_type'] = 'display_data';\n",
              "        await google.colab.output.renderOutput(dataTable, element);\n",
              "        const docLink = document.createElement('div');\n",
              "        docLink.innerHTML = docLinkHtml;\n",
              "        element.appendChild(docLink);\n",
              "      }\n",
              "    </script>\n",
              "  </div>\n",
              "\n",
              "\n",
              "    </div>\n",
              "  </div>\n"
            ],
            "application/vnd.google.colaboratory.intrinsic+json": {
              "type": "dataframe",
              "variable_name": "w"
            }
          },
          "metadata": {},
          "execution_count": 32
        }
      ]
    },
    {
      "cell_type": "code",
      "source": [
        "bias"
      ],
      "metadata": {
        "colab": {
          "base_uri": "https://localhost:8080/",
          "height": 89
        },
        "id": "Z2G3ekS-5ld2",
        "outputId": "da5cb8b0-0d58-471b-99b6-03a56e512610"
      },
      "execution_count": 33,
      "outputs": [
        {
          "output_type": "execute_result",
          "data": {
            "text/plain": [
              "         0\n",
              "0  0.00015"
            ],
            "text/html": [
              "\n",
              "  <div id=\"df-34c68a54-60c3-4d2b-80a6-223ed31169bd\" class=\"colab-df-container\">\n",
              "    <div>\n",
              "<style scoped>\n",
              "    .dataframe tbody tr th:only-of-type {\n",
              "        vertical-align: middle;\n",
              "    }\n",
              "\n",
              "    .dataframe tbody tr th {\n",
              "        vertical-align: top;\n",
              "    }\n",
              "\n",
              "    .dataframe thead th {\n",
              "        text-align: right;\n",
              "    }\n",
              "</style>\n",
              "<table border=\"1\" class=\"dataframe\">\n",
              "  <thead>\n",
              "    <tr style=\"text-align: right;\">\n",
              "      <th></th>\n",
              "      <th>0</th>\n",
              "    </tr>\n",
              "  </thead>\n",
              "  <tbody>\n",
              "    <tr>\n",
              "      <th>0</th>\n",
              "      <td>0.00015</td>\n",
              "    </tr>\n",
              "  </tbody>\n",
              "</table>\n",
              "</div>\n",
              "    <div class=\"colab-df-buttons\">\n",
              "\n",
              "  <div class=\"colab-df-container\">\n",
              "    <button class=\"colab-df-convert\" onclick=\"convertToInteractive('df-34c68a54-60c3-4d2b-80a6-223ed31169bd')\"\n",
              "            title=\"Convert this dataframe to an interactive table.\"\n",
              "            style=\"display:none;\">\n",
              "\n",
              "  <svg xmlns=\"http://www.w3.org/2000/svg\" height=\"24px\" viewBox=\"0 -960 960 960\">\n",
              "    <path d=\"M120-120v-720h720v720H120Zm60-500h600v-160H180v160Zm220 220h160v-160H400v160Zm0 220h160v-160H400v160ZM180-400h160v-160H180v160Zm440 0h160v-160H620v160ZM180-180h160v-160H180v160Zm440 0h160v-160H620v160Z\"/>\n",
              "  </svg>\n",
              "    </button>\n",
              "\n",
              "  <style>\n",
              "    .colab-df-container {\n",
              "      display:flex;\n",
              "      gap: 12px;\n",
              "    }\n",
              "\n",
              "    .colab-df-convert {\n",
              "      background-color: #E8F0FE;\n",
              "      border: none;\n",
              "      border-radius: 50%;\n",
              "      cursor: pointer;\n",
              "      display: none;\n",
              "      fill: #1967D2;\n",
              "      height: 32px;\n",
              "      padding: 0 0 0 0;\n",
              "      width: 32px;\n",
              "    }\n",
              "\n",
              "    .colab-df-convert:hover {\n",
              "      background-color: #E2EBFA;\n",
              "      box-shadow: 0px 1px 2px rgba(60, 64, 67, 0.3), 0px 1px 3px 1px rgba(60, 64, 67, 0.15);\n",
              "      fill: #174EA6;\n",
              "    }\n",
              "\n",
              "    .colab-df-buttons div {\n",
              "      margin-bottom: 4px;\n",
              "    }\n",
              "\n",
              "    [theme=dark] .colab-df-convert {\n",
              "      background-color: #3B4455;\n",
              "      fill: #D2E3FC;\n",
              "    }\n",
              "\n",
              "    [theme=dark] .colab-df-convert:hover {\n",
              "      background-color: #434B5C;\n",
              "      box-shadow: 0px 1px 3px 1px rgba(0, 0, 0, 0.15);\n",
              "      filter: drop-shadow(0px 1px 2px rgba(0, 0, 0, 0.3));\n",
              "      fill: #FFFFFF;\n",
              "    }\n",
              "  </style>\n",
              "\n",
              "    <script>\n",
              "      const buttonEl =\n",
              "        document.querySelector('#df-34c68a54-60c3-4d2b-80a6-223ed31169bd button.colab-df-convert');\n",
              "      buttonEl.style.display =\n",
              "        google.colab.kernel.accessAllowed ? 'block' : 'none';\n",
              "\n",
              "      async function convertToInteractive(key) {\n",
              "        const element = document.querySelector('#df-34c68a54-60c3-4d2b-80a6-223ed31169bd');\n",
              "        const dataTable =\n",
              "          await google.colab.kernel.invokeFunction('convertToInteractive',\n",
              "                                                    [key], {});\n",
              "        if (!dataTable) return;\n",
              "\n",
              "        const docLinkHtml = 'Like what you see? Visit the ' +\n",
              "          '<a target=\"_blank\" href=https://colab.research.google.com/notebooks/data_table.ipynb>data table notebook</a>'\n",
              "          + ' to learn more about interactive tables.';\n",
              "        element.innerHTML = '';\n",
              "        dataTable['output_type'] = 'display_data';\n",
              "        await google.colab.output.renderOutput(dataTable, element);\n",
              "        const docLink = document.createElement('div');\n",
              "        docLink.innerHTML = docLinkHtml;\n",
              "        element.appendChild(docLink);\n",
              "      }\n",
              "    </script>\n",
              "  </div>\n",
              "\n",
              "\n",
              "  <div id=\"id_73b995a8-dbc6-48f1-aaef-6a6b1f4b6d43\">\n",
              "    <style>\n",
              "      .colab-df-generate {\n",
              "        background-color: #E8F0FE;\n",
              "        border: none;\n",
              "        border-radius: 50%;\n",
              "        cursor: pointer;\n",
              "        display: none;\n",
              "        fill: #1967D2;\n",
              "        height: 32px;\n",
              "        padding: 0 0 0 0;\n",
              "        width: 32px;\n",
              "      }\n",
              "\n",
              "      .colab-df-generate:hover {\n",
              "        background-color: #E2EBFA;\n",
              "        box-shadow: 0px 1px 2px rgba(60, 64, 67, 0.3), 0px 1px 3px 1px rgba(60, 64, 67, 0.15);\n",
              "        fill: #174EA6;\n",
              "      }\n",
              "\n",
              "      [theme=dark] .colab-df-generate {\n",
              "        background-color: #3B4455;\n",
              "        fill: #D2E3FC;\n",
              "      }\n",
              "\n",
              "      [theme=dark] .colab-df-generate:hover {\n",
              "        background-color: #434B5C;\n",
              "        box-shadow: 0px 1px 3px 1px rgba(0, 0, 0, 0.15);\n",
              "        filter: drop-shadow(0px 1px 2px rgba(0, 0, 0, 0.3));\n",
              "        fill: #FFFFFF;\n",
              "      }\n",
              "    </style>\n",
              "    <button class=\"colab-df-generate\" onclick=\"generateWithVariable('bias')\"\n",
              "            title=\"Generate code using this dataframe.\"\n",
              "            style=\"display:none;\">\n",
              "\n",
              "  <svg xmlns=\"http://www.w3.org/2000/svg\" height=\"24px\"viewBox=\"0 0 24 24\"\n",
              "       width=\"24px\">\n",
              "    <path d=\"M7,19H8.4L18.45,9,17,7.55,7,17.6ZM5,21V16.75L18.45,3.32a2,2,0,0,1,2.83,0l1.4,1.43a1.91,1.91,0,0,1,.58,1.4,1.91,1.91,0,0,1-.58,1.4L9.25,21ZM18.45,9,17,7.55Zm-12,3A5.31,5.31,0,0,0,4.9,8.1,5.31,5.31,0,0,0,1,6.5,5.31,5.31,0,0,0,4.9,4.9,5.31,5.31,0,0,0,6.5,1,5.31,5.31,0,0,0,8.1,4.9,5.31,5.31,0,0,0,12,6.5,5.46,5.46,0,0,0,6.5,12Z\"/>\n",
              "  </svg>\n",
              "    </button>\n",
              "    <script>\n",
              "      (() => {\n",
              "      const buttonEl =\n",
              "        document.querySelector('#id_73b995a8-dbc6-48f1-aaef-6a6b1f4b6d43 button.colab-df-generate');\n",
              "      buttonEl.style.display =\n",
              "        google.colab.kernel.accessAllowed ? 'block' : 'none';\n",
              "\n",
              "      buttonEl.onclick = () => {\n",
              "        google.colab.notebook.generateWithVariable('bias');\n",
              "      }\n",
              "      })();\n",
              "    </script>\n",
              "  </div>\n",
              "\n",
              "    </div>\n",
              "  </div>\n"
            ],
            "application/vnd.google.colaboratory.intrinsic+json": {
              "type": "dataframe",
              "variable_name": "bias",
              "summary": "{\n  \"name\": \"bias\",\n  \"rows\": 1,\n  \"fields\": [\n    {\n      \"column\": 0,\n      \"properties\": {\n        \"dtype\": \"number\",\n        \"std\": null,\n        \"min\": 0.0001495661647902,\n        \"max\": 0.0001495661647902,\n        \"num_unique_values\": 1,\n        \"samples\": [\n          0.0001495661647902\n        ],\n        \"semantic_type\": \"\",\n        \"description\": \"\"\n      }\n    }\n  ]\n}"
            }
          },
          "metadata": {},
          "execution_count": 33
        }
      ]
    },
    {
      "cell_type": "code",
      "source": [
        "def loss_SVM(w, b, X, y):\n",
        "    lambd = 0.1\n",
        "    # Helper function for the max part of the obj function by row\n",
        "    def loss_by_row(*cols):\n",
        "        x = np.array(cols[:-1])  # x0 to x63\n",
        "        y_val = cols[-1]         # Final value as y\n",
        "        margin = y_val * (np.dot(w, x) + b)\n",
        "        return float(max(0, 1 - margin))\n",
        "    # user defined function for pyspark\n",
        "    loss_udf = udf(loss_by_row, DoubleType())\n",
        "\n",
        "    features = [f\"x{i}\" for i in range(64)]\n",
        "    inputs = [X[c] for c in features] + [y]\n",
        "\n",
        "    df = X.withColumn(\"loss\", loss_udf(*inputs))\n",
        "    avg_loss = df.agg(mean(\"loss\")).first()[0]\n",
        "    # Add final term\n",
        "    return avg_loss + lambd * np.dot(w, w)\n"
      ],
      "metadata": {
        "id": "lViTfKQ4u__I"
      },
      "execution_count": 66,
      "outputs": []
    },
    {
      "cell_type": "code",
      "source": [
        "def predict(w, b, X):\n",
        "    # Prediction by row\n",
        "    def predict_row(*cols):\n",
        "        x = np.array(cols)\n",
        "        score = np.dot(w, x) + b\n",
        "        return int(1 if score >= 0 else -1)\n",
        "    # Declare pyspark UDF\n",
        "    predict_udf = udf(predict_row, IntegerType())\n",
        "\n",
        "    feature_cols = [f\"x{i}\" for i in range(64)]\n",
        "    return X.withColumn(\"prediction\", predict_udf(*[X[c] for c in feature_cols]))\n"
      ],
      "metadata": {
        "id": "ZG67Axpe-PD2"
      },
      "execution_count": 67,
      "outputs": []
    },
    {
      "cell_type": "code",
      "source": [
        "# Decided to pass the entire df as X and use y as the column identifier for the y values to make it easier\n",
        "loss = loss_SVM(w.values.flatten(), float(bias.values[0][0]), df, \"y\")\n",
        "print(\"Objective Value:\", loss)\n",
        "\n",
        "predicted_df = predict(w.values.flatten(), float(bias.values[0][0]), df)\n",
        "predicted_df.select(\"y\", \"prediction\").show()"
      ],
      "metadata": {
        "colab": {
          "base_uri": "https://localhost:8080/"
        },
        "id": "f9CnJycb-v98",
        "outputId": "c928463e-8bc9-476f-eb53-2f4a33afce7e"
      },
      "execution_count": 69,
      "outputs": [
        {
          "output_type": "stream",
          "name": "stdout",
          "text": [
            "Objective Value: 1.0000454245191737\n",
            "+---+----------+\n",
            "|  y|prediction|\n",
            "+---+----------+\n",
            "| -1|        -1|\n",
            "|  1|        -1|\n",
            "|  1|        -1|\n",
            "|  1|         1|\n",
            "| -1|        -1|\n",
            "| -1|         1|\n",
            "| -1|        -1|\n",
            "|  1|        -1|\n",
            "| -1|         1|\n",
            "|  1|        -1|\n",
            "|  1|         1|\n",
            "|  1|        -1|\n",
            "| -1|        -1|\n",
            "|  1|        -1|\n",
            "| -1|         1|\n",
            "|  1|         1|\n",
            "|  1|         1|\n",
            "|  1|        -1|\n",
            "|  1|         1|\n",
            "|  1|        -1|\n",
            "+---+----------+\n",
            "only showing top 20 rows\n",
            "\n"
          ]
        }
      ]
    }
  ]
}