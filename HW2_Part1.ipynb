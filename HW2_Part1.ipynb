{
  "cells": [
    {
      "cell_type": "markdown",
      "id": "7c20d3a8-a3c7-4607-b109-c9f3f31d1896",
      "metadata": {
        "id": "7c20d3a8-a3c7-4607-b109-c9f3f31d1896"
      },
      "source": [
        "# (EX) Electronic medical record (as a SQL refresher)\n",
        "This example utilizes a subset of the [MIMIC III demo](https://physionet.org/content/mimiciii-demo/1.4/) dataset in illustrating the use of database using DuckDB.\n",
        "\n",
        "*Quick notes about DuckDB:*  \n",
        "\n",
        "- DuckDB is a relational database for analytics processing (i.e., OLAP)\n",
        "- DuckDB is columnar-oriented\n",
        "- DuckDB scales reasonably for *relatively* large datasets and works well for local development\n",
        "\n",
        "For MIMIC-III, here is a [full summary](https://mit-lcp.github.io/mimic-schema-spy/) where you can understand the relationship between tables."
      ]
    },
    {
      "cell_type": "code",
      "execution_count": 12,
      "id": "34d2d203-6568-4c5e-8215-756f8946507a",
      "metadata": {
        "scrolled": true,
        "colab": {
          "base_uri": "https://localhost:8080/"
        },
        "id": "34d2d203-6568-4c5e-8215-756f8946507a",
        "outputId": "3ab11936-fdaf-4aed-f302-b7762f2f7ca2"
      },
      "outputs": [
        {
          "output_type": "stream",
          "name": "stdout",
          "text": [
            "Requirement already satisfied: duckdb==1.2.2 in /usr/local/lib/python3.11/dist-packages (1.2.2)\n"
          ]
        }
      ],
      "source": [
        "!pip install duckdb==1.2.2\n",
        "import duckdb"
      ]
    },
    {
      "cell_type": "code",
      "source": [
        "tables = [\n",
        "    'ADMISSIONS',\n",
        "    'ICUSTAYS',\n",
        "    'PATIENTS',\n",
        "    'PROCEDURES_ICD',\n",
        "    'D_ICD_PROCEDURES',\n",
        "    'DRGCODES',\n",
        "    'PRESCRIPTIONS'\n",
        "]\n",
        "\n",
        "conn = duckdb.connect()\n",
        "for table_name in tables:\n",
        "    conn.execute(f\"CREATE TABLE {table_name} AS SELECT * FROM read_csv_auto('{table_name}.csv')\")\n",
        "\n",
        "conn.sql('SHOW TABLES;')"
      ],
      "metadata": {
        "colab": {
          "base_uri": "https://localhost:8080/"
        },
        "id": "StDs13jxfA3a",
        "outputId": "ea2aba02-7240-4b2f-f05a-6e62cd08db6d"
      },
      "id": "StDs13jxfA3a",
      "execution_count": 24,
      "outputs": [
        {
          "output_type": "execute_result",
          "data": {
            "text/plain": [
              "┌──────────────────┐\n",
              "│       name       │\n",
              "│     varchar      │\n",
              "├──────────────────┤\n",
              "│ ADMISSIONS       │\n",
              "│ DRGCODES         │\n",
              "│ D_ICD_PROCEDURES │\n",
              "│ ICUSTAYS         │\n",
              "│ PATIENTS         │\n",
              "│ PRESCRIPTIONS    │\n",
              "│ PROCEDURES_ICD   │\n",
              "└──────────────────┘"
            ]
          },
          "metadata": {},
          "execution_count": 24
        }
      ]
    },
    {
      "cell_type": "markdown",
      "source": [
        "All cols in all tables:"
      ],
      "metadata": {
        "id": "ZQQ3WxrVpRuB"
      },
      "id": "ZQQ3WxrVpRuB"
    },
    {
      "cell_type": "code",
      "source": [
        "for table_name in tables:\n",
        "  print(f\"Columns in table: {table_name}\")\n",
        "  result = conn.execute(f\"PRAGMA table_info({table_name});\").fetchall()\n",
        "  for row in result:\n",
        "    print(row)\n",
        "  print(\"-\" * 20)"
      ],
      "metadata": {
        "colab": {
          "base_uri": "https://localhost:8080/"
        },
        "id": "l2sG9IM8mT5_",
        "outputId": "1e4cef12-999b-4366-b8d2-6696ae65375c"
      },
      "id": "l2sG9IM8mT5_",
      "execution_count": 22,
      "outputs": [
        {
          "output_type": "stream",
          "name": "stdout",
          "text": [
            "Columns in table: ADMISSIONS\n",
            "(0, 'row_id', 'BIGINT', False, None, False)\n",
            "(1, 'subject_id', 'BIGINT', False, None, False)\n",
            "(2, 'hadm_id', 'BIGINT', False, None, False)\n",
            "(3, 'admittime', 'TIMESTAMP', False, None, False)\n",
            "(4, 'dischtime', 'TIMESTAMP', False, None, False)\n",
            "(5, 'deathtime', 'TIMESTAMP', False, None, False)\n",
            "(6, 'admission_type', 'VARCHAR', False, None, False)\n",
            "(7, 'admission_location', 'VARCHAR', False, None, False)\n",
            "(8, 'discharge_location', 'VARCHAR', False, None, False)\n",
            "(9, 'insurance', 'VARCHAR', False, None, False)\n",
            "(10, 'language', 'VARCHAR', False, None, False)\n",
            "(11, 'religion', 'VARCHAR', False, None, False)\n",
            "(12, 'marital_status', 'VARCHAR', False, None, False)\n",
            "(13, 'ethnicity', 'VARCHAR', False, None, False)\n",
            "(14, 'edregtime', 'TIMESTAMP', False, None, False)\n",
            "(15, 'edouttime', 'TIMESTAMP', False, None, False)\n",
            "(16, 'diagnosis', 'VARCHAR', False, None, False)\n",
            "(17, 'hospital_expire_flag', 'BIGINT', False, None, False)\n",
            "(18, 'has_chartevents_data', 'BIGINT', False, None, False)\n",
            "--------------------\n",
            "Columns in table: ICUSTAYS\n",
            "(0, 'row_id', 'BIGINT', False, None, False)\n",
            "(1, 'subject_id', 'BIGINT', False, None, False)\n",
            "(2, 'hadm_id', 'BIGINT', False, None, False)\n",
            "(3, 'icustay_id', 'BIGINT', False, None, False)\n",
            "(4, 'dbsource', 'VARCHAR', False, None, False)\n",
            "(5, 'first_careunit', 'VARCHAR', False, None, False)\n",
            "(6, 'last_careunit', 'VARCHAR', False, None, False)\n",
            "(7, 'first_wardid', 'BIGINT', False, None, False)\n",
            "(8, 'last_wardid', 'BIGINT', False, None, False)\n",
            "(9, 'intime', 'TIMESTAMP', False, None, False)\n",
            "(10, 'outtime', 'TIMESTAMP', False, None, False)\n",
            "(11, 'los', 'DOUBLE', False, None, False)\n",
            "--------------------\n",
            "Columns in table: PATIENTS\n",
            "(0, 'row_id', 'BIGINT', False, None, False)\n",
            "(1, 'subject_id', 'BIGINT', False, None, False)\n",
            "(2, 'gender', 'VARCHAR', False, None, False)\n",
            "(3, 'dob', 'TIMESTAMP', False, None, False)\n",
            "(4, 'dod', 'TIMESTAMP', False, None, False)\n",
            "(5, 'dod_hosp', 'TIMESTAMP', False, None, False)\n",
            "(6, 'dod_ssn', 'TIMESTAMP', False, None, False)\n",
            "(7, 'expire_flag', 'BIGINT', False, None, False)\n",
            "--------------------\n",
            "Columns in table: PROCEDURES_ICD\n",
            "(0, 'row_id', 'BIGINT', False, None, False)\n",
            "(1, 'subject_id', 'BIGINT', False, None, False)\n",
            "(2, 'hadm_id', 'BIGINT', False, None, False)\n",
            "(3, 'seq_num', 'BIGINT', False, None, False)\n",
            "(4, 'icd9_code', 'VARCHAR', False, None, False)\n",
            "--------------------\n",
            "Columns in table: D_ICD_PROCEDURES\n",
            "(0, 'row_id', 'BIGINT', False, None, False)\n",
            "(1, 'icd9_code', 'VARCHAR', False, None, False)\n",
            "(2, 'short_title', 'VARCHAR', False, None, False)\n",
            "(3, 'long_title', 'VARCHAR', False, None, False)\n",
            "--------------------\n",
            "Columns in table: DRGCODES\n",
            "(0, 'row_id', 'BIGINT', False, None, False)\n",
            "(1, 'subject_id', 'BIGINT', False, None, False)\n",
            "(2, 'hadm_id', 'BIGINT', False, None, False)\n",
            "(3, 'drg_type', 'VARCHAR', False, None, False)\n",
            "(4, 'drg_code', 'VARCHAR', False, None, False)\n",
            "(5, 'description', 'VARCHAR', False, None, False)\n",
            "(6, 'drg_severity', 'BIGINT', False, None, False)\n",
            "(7, 'drg_mortality', 'BIGINT', False, None, False)\n",
            "--------------------\n",
            "Columns in table: PRESCRIPTIONS\n",
            "(0, 'row_id', 'BIGINT', False, None, False)\n",
            "(1, 'subject_id', 'BIGINT', False, None, False)\n",
            "(2, 'hadm_id', 'BIGINT', False, None, False)\n",
            "(3, 'icustay_id', 'BIGINT', False, None, False)\n",
            "(4, 'startdate', 'TIMESTAMP', False, None, False)\n",
            "(5, 'enddate', 'TIMESTAMP', False, None, False)\n",
            "(6, 'drug_type', 'VARCHAR', False, None, False)\n",
            "(7, 'drug', 'VARCHAR', False, None, False)\n",
            "(8, 'drug_name_poe', 'VARCHAR', False, None, False)\n",
            "(9, 'drug_name_generic', 'VARCHAR', False, None, False)\n",
            "(10, 'formulary_drug_cd', 'VARCHAR', False, None, False)\n",
            "(11, 'gsn', 'VARCHAR', False, None, False)\n",
            "(12, 'ndc', 'VARCHAR', False, None, False)\n",
            "(13, 'prod_strength', 'VARCHAR', False, None, False)\n",
            "(14, 'dose_val_rx', 'VARCHAR', False, None, False)\n",
            "(15, 'dose_unit_rx', 'VARCHAR', False, None, False)\n",
            "(16, 'form_val_disp', 'VARCHAR', False, None, False)\n",
            "(17, 'form_unit_disp', 'VARCHAR', False, None, False)\n",
            "(18, 'route', 'VARCHAR', False, None, False)\n",
            "--------------------\n"
          ]
        }
      ]
    },
    {
      "cell_type": "code",
      "execution_count": 48,
      "id": "f472eba1-ec9a-4ef0-a3f9-35779453c25a",
      "metadata": {
        "colab": {
          "base_uri": "https://localhost:8080/"
        },
        "id": "f472eba1-ec9a-4ef0-a3f9-35779453c25a",
        "outputId": "e4a33735-af31-4931-8d53-eca7a4545382"
      },
      "outputs": [
        {
          "output_type": "execute_result",
          "data": {
            "text/plain": [
              "┌──────────────────────────────────────────────────────────┬──────────────────────┬────────────────────┐\n",
              "│                        ethnicity                         │       top_drug       │ prescription_count │\n",
              "│                         varchar                          │       varchar        │       int64        │\n",
              "├──────────────────────────────────────────────────────────┼──────────────────────┼────────────────────┤\n",
              "│ WHITE                                                    │ Potassium Chloride   │                381 │\n",
              "│ HISPANIC/LATINO - PUERTO RICAN                           │ 0.9% Sodium Chloride │                 86 │\n",
              "│ BLACK/AFRICAN AMERICAN                                   │ Insulin              │                 38 │\n",
              "│ UNKNOWN/NOT SPECIFIED                                    │ D5W                  │                 37 │\n",
              "│ HISPANIC OR LATINO                                       │ 5% Dextrose          │                 28 │\n",
              "│ UNABLE TO OBTAIN                                         │ 0.9% Sodium Chloride │                 28 │\n",
              "│ ASIAN                                                    │ D5W                  │                 27 │\n",
              "│ AMERICAN INDIAN/ALASKA NATIVE FEDERALLY RECOGNIZED TRIBE │ 5% Dextrose          │                 27 │\n",
              "│ OTHER                                                    │ NS                   │                 11 │\n",
              "└──────────────────────────────────────────────────────────┴──────────────────────┴────────────────────┘"
            ]
          },
          "metadata": {},
          "execution_count": 48
        }
      ],
      "source": [
        "\n",
        "conn.sql(\n",
        "    \"\"\"\n",
        "    WITH drug_ethnicity AS (\n",
        "        SELECT\n",
        "            a.ethnicity,\n",
        "            p.drug AS drug_name,\n",
        "            COUNT(*) AS prescription_count,\n",
        "            ROW_NUMBER() OVER (PARTITION BY a.ethnicity ORDER BY COUNT(*) DESC) AS rank\n",
        "        FROM PRESCRIPTIONS p\n",
        "        JOIN ADMISSIONS a ON p.hadm_id = a.hadm_id\n",
        "        WHERE p.drug IS NOT NULL\n",
        "        GROUP BY a.ethnicity, p.drug\n",
        "    )\n",
        "    SELECT\n",
        "        ethnicity,\n",
        "        drug_name AS top_drug,\n",
        "        prescription_count\n",
        "    FROM drug_ethnicity\n",
        "    WHERE rank = 1\n",
        "    ORDER BY prescription_count DESC;\n",
        "    \"\"\"\n",
        ")"
      ]
    },
    {
      "cell_type": "markdown",
      "source": [
        "<br>\n",
        "ADMISSIONS have an ethnicity and PATIENTS have a drug listed. These were joined and grouped by ethnicity and drug. The drug with the highest count is listed\n",
        "\n",
        "\n",
        "<br>\n",
        "<br>\n",
        "NS and 0.9% Sodium Chloride are the same. These are both normal saline solution. This indicates use of IVs. One outlier is Insulin for Black/African Americans. D5W and 5% Dextrose are both carbohydrate solutions. This analysis did not combine similar drugs or drugs under different names. This also did not group any ethnicities together.\n",
        "\n"
      ],
      "metadata": {
        "id": "rVZmIeiXwnNh"
      },
      "id": "rVZmIeiXwnNh"
    },
    {
      "cell_type": "code",
      "execution_count": 26,
      "id": "dccd4798-a5fa-438f-8040-bd01b729c97e",
      "metadata": {
        "scrolled": true,
        "colab": {
          "base_uri": "https://localhost:8080/"
        },
        "id": "dccd4798-a5fa-438f-8040-bd01b729c97e",
        "outputId": "3dbd395f-49aa-466e-971a-35b2e533e114"
      },
      "outputs": [
        {
          "output_type": "execute_result",
          "data": {
            "text/plain": [
              "┌───────────┬─────────────────────────────────────────────────────────┬─────────────────┐\n",
              "│ age_group │                     procedure_name                      │ procedure_count │\n",
              "│  varchar  │                         varchar                         │      int64      │\n",
              "├───────────┼─────────────────────────────────────────────────────────┼─────────────────┤\n",
              "│ 0-19      │ Venous catheterization, not elsewhere classified        │               2 │\n",
              "│ 0-19      │ Repair of vertebral fracture                            │               1 │\n",
              "│ 0-19      │ Interruption of the vena cava                           │               1 │\n",
              "│ 20-49     │ Venous catheterization, not elsewhere classified        │               9 │\n",
              "│ 20-49     │ Enteral infusion of concentrated nutritional substances │               7 │\n",
              "│ 20-49     │ Percutaneous abdominal drainage                         │               6 │\n",
              "│ 50-79     │ Venous catheterization, not elsewhere classified        │              25 │\n",
              "│ 50-79     │ Enteral infusion of concentrated nutritional substances │              22 │\n",
              "│ 50-79     │ Transfusion of packed cells                             │              13 │\n",
              "│ 80+       │ Venous catheterization, not elsewhere classified        │              20 │\n",
              "│ 80+       │ Transfusion of packed cells                             │              13 │\n",
              "│ 80+       │ Insertion of endotracheal tube                          │               8 │\n",
              "├───────────┴─────────────────────────────────────────────────────────┴─────────────────┤\n",
              "│ 12 rows                                                                     3 columns │\n",
              "└───────────────────────────────────────────────────────────────────────────────────────┘"
            ]
          },
          "metadata": {},
          "execution_count": 26
        }
      ],
      "source": [
        "conn.sql(\n",
        "    \"\"\"\n",
        "    WITH patient_ages AS (\n",
        "        SELECT\n",
        "            p.subject_id,\n",
        "            a.hadm_id,\n",
        "            FLOOR(DATEDIFF('year', p.dob, a.admittime)) AS admission_age\n",
        "        FROM PATIENTS p\n",
        "        JOIN ADMISSIONS a ON p.subject_id = a.subject_id\n",
        "    ),\n",
        "    age_groups AS (\n",
        "        SELECT\n",
        "            subject_id,\n",
        "            hadm_id,\n",
        "            CASE\n",
        "                WHEN admission_age <= 19 THEN '0-19'\n",
        "                WHEN admission_age BETWEEN 20 AND 49 THEN '20-49'\n",
        "                WHEN admission_age BETWEEN 50 AND 79 THEN '50-79'\n",
        "                ELSE '80+'\n",
        "            END AS age_group\n",
        "        FROM patient_ages\n",
        "    ),\n",
        "    procedure_counts AS (\n",
        "        SELECT\n",
        "            ag.age_group,\n",
        "            d.long_title AS procedure_name,\n",
        "            COUNT(*) AS procedure_count,\n",
        "            ROW_NUMBER() OVER (PARTITION BY ag.age_group ORDER BY COUNT(*) DESC) AS rank\n",
        "        FROM PROCEDURES_ICD pr\n",
        "        JOIN age_groups ag ON pr.hadm_id = ag.hadm_id\n",
        "        JOIN D_ICD_PROCEDURES d ON pr.icd9_code = d.icd9_code\n",
        "        GROUP BY ag.age_group, d.long_title\n",
        "    )\n",
        "    SELECT\n",
        "        age_group,\n",
        "        procedure_name,\n",
        "        procedure_count\n",
        "    FROM procedure_counts\n",
        "    WHERE rank <= 3\n",
        "    ORDER BY age_group, procedure_count DESC;\n",
        "    \"\"\"\n",
        ")"
      ]
    },
    {
      "cell_type": "markdown",
      "source": [
        "<br> Age is not included in the db so it was calculated by the admit date - date of birth. Age groups were then used to divide the data. The data was aggregated on age groups and procedure name to get the count of each procedure by age group. The top 3 procedures were output.\n",
        "\n",
        "\n",
        "<br>Venous catherization is common in all age groups. Transfusion of packed cells is also seen in 80+ and 50-79 age groups. Outside of that, there are differences in procedures by age group."
      ],
      "metadata": {
        "id": "GlZkEOpkuTUr"
      },
      "id": "GlZkEOpkuTUr"
    },
    {
      "cell_type": "code",
      "execution_count": 42,
      "id": "e1621349-194a-4dc9-8c42-c1cfdfa946dc",
      "metadata": {
        "colab": {
          "base_uri": "https://localhost:8080/"
        },
        "id": "e1621349-194a-4dc9-8c42-c1cfdfa946dc",
        "outputId": "47cdde62-8ef5-4673-e2d9-62203cdea17b"
      },
      "outputs": [
        {
          "output_type": "execute_result",
          "data": {
            "text/plain": [
              "┌───────────────┬────────────────────────────────┬────────────────────┬───────────────┐\n",
              "│ analysis_type │            category            │      avg_los       │ patient_count │\n",
              "│    varchar    │            varchar             │       double       │     int64     │\n",
              "├───────────────┼────────────────────────────────┼────────────────────┼───────────────┤\n",
              "│ By Ethnicity  │ BLACK/AFRICAN AMERICAN         │  7.676671428571429 │             7 │\n",
              "│ By Ethnicity  │ UNKNOWN/NOT SPECIFIED          │  4.925272727272727 │            11 │\n",
              "│ By Ethnicity  │ WHITE                          │  4.130488043478261 │            92 │\n",
              "│ By Ethnicity  │ HISPANIC/LATINO - PUERTO RICAN │ 3.2430666666666665 │            15 │\n",
              "│ By Gender     │ F                              │  5.540071428571428 │            63 │\n",
              "│ By Gender     │ M                              │  3.513830136986302 │            73 │\n",
              "└───────────────┴────────────────────────────────┴────────────────────┴───────────────┘"
            ]
          },
          "metadata": {},
          "execution_count": 42
        }
      ],
      "source": [
        "# By Gender\n",
        "conn.sql(\n",
        "    \"\"\"\n",
        "    WITH icu_ethnicity AS (\n",
        "        SELECT\n",
        "            a.ethnicity,\n",
        "            i.los AS los,\n",
        "            COUNT(*) OVER (PARTITION BY a.ethnicity) AS ethnic_group_count\n",
        "        FROM ICUSTAYS i\n",
        "        JOIN ADMISSIONS a ON i.hadm_id = a.hadm_id\n",
        "        WHERE i.outtime IS NOT NULL\n",
        "    ),\n",
        "\n",
        "\n",
        "    icu_gender AS (\n",
        "        SELECT\n",
        "            p.gender,\n",
        "            i.los AS los,\n",
        "            COUNT(*) OVER (PARTITION BY p.gender) AS gender_group_count\n",
        "        FROM ICUSTAYS i\n",
        "        JOIN PATIENTS p ON i.subject_id = p.subject_id\n",
        "        WHERE i.outtime IS NOT NULL\n",
        "    )\n",
        "\n",
        "\n",
        "\n",
        "    SELECT\n",
        "        'By Ethnicity' AS analysis_type,\n",
        "        ethnicity AS category,\n",
        "        AVG(los) AS avg_los,\n",
        "        MAX(ethnic_group_count) AS patient_count\n",
        "    FROM icu_ethnicity\n",
        "    GROUP BY ethnicity\n",
        "    HAVING MAX(ethnic_group_count) > 3\n",
        "\n",
        "    UNION ALL\n",
        "\n",
        "\n",
        "\n",
        "    SELECT\n",
        "        'By Gender' AS analysis_type,\n",
        "        gender AS category,\n",
        "        AVG(los) AS avg_los,\n",
        "        MAX(gender_group_count) AS patient_count\n",
        "    FROM icu_gender\n",
        "    GROUP BY gender\n",
        "\n",
        "    ORDER BY analysis_type, avg_los DESC;\n",
        "    \"\"\"\n",
        ")"
      ]
    },
    {
      "cell_type": "markdown",
      "source": [
        "<br>\n",
        "Due to a small amount of patients of certain ethnicities that had a reported out time, some were excluded. Only ethnicities with more than 3 patients with an out time were included. \"los\" is the length of ICU stay. This is connected to the gender in PATIENTS or the ethnicity in ADMISSIONS to get the average time in the ICU by gender and race respectively.\n",
        "\n",
        "<br><br>\n",
        "This analysis shows that females had a higher average time in ICU than men by around 2 days. Black/African Americans had the most time in ICU, followed by unspecified, White, and Puerto Rican Hispanics.\n",
        "\n",
        "<br>\n",
        "<br>"
      ],
      "metadata": {
        "id": "b6pnlBPOro69"
      },
      "id": "b6pnlBPOro69"
    },
    {
      "cell_type": "markdown",
      "source": [
        "GAI Disclosure: GAI was used to combine two separate queries for ethnicity and gender to have one output"
      ],
      "metadata": {
        "id": "USZqLXhlp0jz"
      },
      "id": "USZqLXhlp0jz"
    }
  ],
  "metadata": {
    "kernelspec": {
      "display_name": "Python 3 (ipykernel)",
      "language": "python",
      "name": "python3"
    },
    "language_info": {
      "codemirror_mode": {
        "name": "ipython",
        "version": 3
      },
      "file_extension": ".py",
      "mimetype": "text/x-python",
      "name": "python",
      "nbconvert_exporter": "python",
      "pygments_lexer": "ipython3",
      "version": "3.11.8"
    },
    "colab": {
      "provenance": []
    }
  },
  "nbformat": 4,
  "nbformat_minor": 5
}